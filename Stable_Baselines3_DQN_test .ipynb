{
  "nbformat": 4,
  "nbformat_minor": 0,
  "metadata": {
    "colab": {
      "provenance": [],
      "gpuType": "T4"
    },
    "kernelspec": {
      "name": "python3",
      "display_name": "Python 3"
    },
    "language_info": {
      "name": "python"
    },
    "accelerator": "GPU"
  },
  "cells": [
    {
      "cell_type": "code",
      "source": [
        "!pip install stable-baselines3[extra]"
      ],
      "metadata": {
        "id": "dr4UZOaLPIt-"
      },
      "execution_count": null,
      "outputs": []
    },
    {
      "cell_type": "code",
      "execution_count": null,
      "metadata": {
        "id": "TTYOuy7EwWD0",
        "colab": {
          "base_uri": "https://localhost:8080/"
        },
        "outputId": "3482e1e6-3348-4b4c-d561-5a0d0c62e120"
      },
      "outputs": [
        {
          "output_type": "stream",
          "name": "stderr",
          "text": [
            "/usr/local/lib/python3.10/dist-packages/torch/utils/tensorboard/__init__.py:4: DeprecationWarning: distutils Version classes are deprecated. Use packaging.version instead.\n",
            "  if not hasattr(tensorboard, \"__version__\") or LooseVersion(\n"
          ]
        }
      ],
      "source": [
        "import gymnasium\n",
        "from gymnasium import spaces\n",
        "import numpy as np\n",
        "import random\n",
        "from scipy.stats import poisson\n",
        "from stable_baselines3 import DQN\n",
        "from stable_baselines3.common.env_checker import check_env"
      ]
    },
    {
      "cell_type": "code",
      "source": [
        "class WSNEnvironment(gymnasium.Env):\n",
        "\n",
        "    metadata = {\"render_modes\": [\"console\"]}\n",
        "    def __init__(self, num_sensors=13, sensor_coverage=0.4, max_steps=1000, threshold_prob=0.3):\n",
        "        super(WSNEnvironment, self).__init__()\n",
        "\n",
        "        # Environment parameters\n",
        "        self.num_sensors = num_sensors\n",
        "        self.sensor_coverage = sensor_coverage\n",
        "        self.max_steps = max_steps\n",
        "        self.threshold_prob = threshold_prob\n",
        "\n",
        "        # Initialize the environment\n",
        "        self.sensor_positions, self.num_points = self._generate_sensor_positions()\n",
        "\n",
        "        # Define observation space\n",
        "        self.observation_space = spaces.Box(low=0, high=1000, shape=(self.num_points, 3), dtype=np.float32)\n",
        "\n",
        "        # Define action space\n",
        "        self.action_space = spaces.Discrete(self.num_points)  # Select sensor index\n",
        "\n",
        "        # Internal state variables\n",
        "        self.step_count = 0\n",
        "\n",
        "        # information dictionary\n",
        "        self.info = {}\n",
        "\n",
        "        # the generated event\n",
        "        self.event = None\n",
        "\n",
        "        # Number of generated events\n",
        "        self.generated_events = 0\n",
        "\n",
        "    def reset(self, seed=0):\n",
        "        # Initialize the environment at the start of each episode\n",
        "        self.step_count = 0\n",
        "        self.generated_events = 0\n",
        "        self.info = {'captured': 0, 'non-captured': 0}\n",
        "\n",
        "        for i in range(self.num_points):\n",
        "            self.info['sensor '+str(i)] = set()\n",
        "            # reset the number of selection for each sensor to 0\n",
        "            self.sensor_positions[i,-1] = 0\n",
        "        return self.sensor_positions, self.info\n",
        "\n",
        "    def step(self, action):\n",
        "        # Execute one step in the environment\n",
        "        truncated = bool(self.step_count > self.max_steps)\n",
        "        terminated = False\n",
        "        reward = 0\n",
        "\n",
        "        # Check termination condition\n",
        "        if truncated:\n",
        "            terminated = True\n",
        "            return self.sensor_positions, reward, terminated, truncated, self.info\n",
        "\n",
        "        self.event = None\n",
        "\n",
        "        # we flip a coin to get a probability and if it exceeds threshold we generate an event\n",
        "        prob_flip_coin = random.uniform(0, 1)\n",
        "\n",
        "        if prob_flip_coin >= self.threshold_prob:\n",
        "            self.event = 1\n",
        "        else:\n",
        "            self.event = 0\n",
        "\n",
        "        if self.event == 1:\n",
        "\n",
        "            self.generated_events += 1\n",
        "\n",
        "            # Generate event location\n",
        "            event_location = np.random.uniform(low=0, high=1, size=(2,))\n",
        "\n",
        "            # detect the sensors near that event\n",
        "            for i in range(self.num_points):\n",
        "                # calculate the distance between the sensor and the event\n",
        "                distance = np.linalg.norm(event_location - self.sensor_positions[i,:2])\n",
        "\n",
        "                # adding the event to the sensor events buffer in case its under the coverage\n",
        "                # the event is represented with a tuple (event, the step count in the episode)\n",
        "                if distance <= self.sensor_coverage:\n",
        "                    self.info['sensor '+str(i)].add((self.event, self.step_count))\n",
        "\n",
        "            # check the sensor buffer of the selected action\n",
        "            selected_buffer = self.info['sensor '+str(action)]\n",
        "            number_captured_events = len(selected_buffer)\n",
        "\n",
        "            #update the observation space\n",
        "            self.sensor_positions[action, 2] += 1\n",
        "\n",
        "            if  number_captured_events == 0:\n",
        "              reward = -0.4\n",
        "\n",
        "            else:\n",
        "              #calculate the reward\n",
        "              temp = 0\n",
        "              # looping through events in the selected buffer's set\n",
        "              for x in selected_buffer:\n",
        "                #age of info\n",
        "                AoI = self.step_count - x[-1]\n",
        "                if AoI == 0: temp = 1\n",
        "                else: temp += 1/AoI\n",
        "\n",
        "\n",
        "              reward = temp\n",
        "\n",
        "              # remove the selected events from the other buffers\n",
        "              for i in range(self.num_points):\n",
        "                #skip the selected sensor's buffer\n",
        "                if i != action :\n",
        "                  buffer = self.info['sensor '+str(i)]\n",
        "                  buffer.difference_update(selected_buffer)\n",
        "\n",
        "              #clear the buffer of the selected sensor\n",
        "              selected_buffer.clear()\n",
        "\n",
        "              #update the info dict\n",
        "              self.info['captured'] += number_captured_events\n",
        "\n",
        "        #no generated event\n",
        "        else:  reward = 0\n",
        "\n",
        "        # calculate the non-captured event in case the episode is done\n",
        "        if self.step_count == self.max_steps:\n",
        "            self.info['non-captured'] = self.generated_events - self.info['captured']\n",
        "\n",
        "        self.step_count += 1\n",
        "\n",
        "        # Return the next observation, reward, termination signal, and additional information\n",
        "        return self.sensor_positions, reward, terminated, truncated, self.info\n",
        "\n",
        "    def _generate_sensor_positions(self):\n",
        "\n",
        "        # Set a fixed random seed for reproducibility\n",
        "        np.random.seed(42)\n",
        "\n",
        "        # Define the intensity (lambda) for the Poisson process\n",
        "        intensity = self.num_sensors / (1 * 1)  # Adjust as needed based on the size of the space\n",
        "\n",
        "        # Generate the number of points based on a Poisson distribution\n",
        "        num_points = poisson(intensity).rvs()\n",
        "\n",
        "        # Generate the sensor positions uniformly at random within the space\n",
        "        sensor_positions = np.random.uniform(low=0, high=1, size=(num_points, 2))\n",
        "\n",
        "        # Create a new column of zeros with the same number of sensors to calculate the number of pulling for each one\n",
        "        zeros_column = np.zeros((num_points, 1))\n",
        "\n",
        "        # Concatenate the original array with the new column of zeros\n",
        "        sensor_positions_with_zeros = np.hstack((sensor_positions, zeros_column))\n",
        "\n",
        "\n",
        "        return sensor_positions_with_zeros.astype(np.float32), num_points\n",
        "\n",
        "    def render(self):\n",
        "        pass\n",
        "\n",
        "    def close(self):\n",
        "        pass"
      ],
      "metadata": {
        "id": "aRQ3jQvTwZ4M",
        "colab": {
          "base_uri": "https://localhost:8080/"
        },
        "outputId": "5e4b6f3b-6aec-4dc1-bc58-57a6a8a7195a"
      },
      "execution_count": null,
      "outputs": [
        {
          "output_type": "stream",
          "name": "stderr",
          "text": [
            "/usr/local/lib/python3.10/dist-packages/ipykernel/ipkernel.py:283: DeprecationWarning: `should_run_async` will not call `transform_cell` automatically in the future. Please pass the result to `transformed_cell` argument and any exception that happen during thetransform in `preprocessing_exc_tuple` in IPython 7.17 and above.\n",
            "  and should_run_async(code)\n"
          ]
        }
      ]
    },
    {
      "cell_type": "code",
      "source": [
        "env = WSNEnvironment()"
      ],
      "metadata": {
        "id": "xjZ01rtSweNW"
      },
      "execution_count": null,
      "outputs": []
    },
    {
      "cell_type": "code",
      "source": [
        "env.sensor_positions"
      ],
      "metadata": {
        "colab": {
          "base_uri": "https://localhost:8080/"
        },
        "id": "kOPr_m8SJzHp",
        "outputId": "8a62bd98-b3cb-4f62-cc5c-0535e0503706"
      },
      "execution_count": null,
      "outputs": [
        {
          "output_type": "execute_result",
          "data": {
            "text/plain": [
              "array([[0.7319939 , 0.5986585 , 0.        ],\n",
              "       [0.15601864, 0.15599452, 0.        ],\n",
              "       [0.05808361, 0.8661761 , 0.        ],\n",
              "       [0.601115  , 0.7080726 , 0.        ],\n",
              "       [0.02058449, 0.96990985, 0.        ],\n",
              "       [0.83244264, 0.21233912, 0.        ],\n",
              "       [0.18182497, 0.1834045 , 0.        ],\n",
              "       [0.30424225, 0.52475643, 0.        ],\n",
              "       [0.43194503, 0.29122913, 0.        ],\n",
              "       [0.6118529 , 0.13949387, 0.        ],\n",
              "       [0.29214466, 0.36636186, 0.        ],\n",
              "       [0.45606998, 0.785176  , 0.        ]], dtype=float32)"
            ]
          },
          "metadata": {},
          "execution_count": 5
        }
      ]
    },
    {
      "cell_type": "code",
      "source": [
        "episodes = 20\n",
        "scores = []\n",
        "\n",
        "for episode in range(1, episodes+1):\n",
        "    state, info = env.reset()\n",
        "    done = False\n",
        "    score = 0\n",
        "\n",
        "    while not done:\n",
        "        action = env.action_space.sample()\n",
        "        n_state, reward, terminated, truncated, info = env.step(action)\n",
        "        score += reward\n",
        "        done = terminated or truncated\n",
        "\n",
        "    scores.append(score)\n",
        "    print('Episode:{}\\t Score:{:.2f} \\t{}'.format(episode, score, info))\n",
        "\n",
        "# Print average score\n",
        "print('Average Score:', np.mean(scores))"
      ],
      "metadata": {
        "colab": {
          "base_uri": "https://localhost:8080/"
        },
        "id": "nICw2i2YzctR",
        "outputId": "d06fd7c2-e4fb-43ac-ec90-e948555e4093"
      },
      "execution_count": null,
      "outputs": [
        {
          "output_type": "stream",
          "name": "stdout",
          "text": [
            "Episode:1\t Score:272.79 \t{'captured': 668, 'non-captured': 10, 'sensor 0': {(1, 986), (1, 994), (1, 978), (1, 970), (1, 999)}, 'sensor 1': {(1, 1000)}, 'sensor 2': set(), 'sensor 3': {(1, 986), (1, 970), (1, 999), (1, 994)}, 'sensor 4': set(), 'sensor 5': {(1, 994), (1, 978)}, 'sensor 6': {(1, 1000)}, 'sensor 7': {(1, 1000), (1, 999)}, 'sensor 8': {(1, 999), (1, 1000)}, 'sensor 9': set(), 'sensor 10': {(1, 999), (1, 1000)}, 'sensor 11': {(1, 986), (1, 999)}}\n",
            "Episode:2\t Score:301.38 \t{'captured': 682, 'non-captured': 6, 'sensor 0': {(1, 999), (1, 1000)}, 'sensor 1': set(), 'sensor 2': set(), 'sensor 3': {(1, 1000)}, 'sensor 4': set(), 'sensor 5': {(1, 999)}, 'sensor 6': set(), 'sensor 7': set(), 'sensor 8': set(), 'sensor 9': {(1, 999)}, 'sensor 10': set(), 'sensor 11': {(1, 1000)}}\n",
            "Episode:3\t Score:304.80 \t{'captured': 704, 'non-captured': 8, 'sensor 0': {(1, 1000)}, 'sensor 1': {(1, 999)}, 'sensor 2': {(1, 1000), (1, 994)}, 'sensor 3': {(1, 1000)}, 'sensor 4': {(1, 994)}, 'sensor 5': set(), 'sensor 6': {(1, 999)}, 'sensor 7': {(1, 999), (1, 1000)}, 'sensor 8': {(1, 999), (1, 1000)}, 'sensor 9': {(1, 999)}, 'sensor 10': {(1, 999), (1, 1000)}, 'sensor 11': {(1, 1000), (1, 994)}}\n",
            "Episode:4\t Score:289.07 \t{'captured': 710, 'non-captured': 6, 'sensor 0': set(), 'sensor 1': set(), 'sensor 2': set(), 'sensor 3': set(), 'sensor 4': set(), 'sensor 5': set(), 'sensor 6': set(), 'sensor 7': set(), 'sensor 8': set(), 'sensor 9': set(), 'sensor 10': set(), 'sensor 11': set()}\n",
            "Episode:5\t Score:290.38 \t{'captured': 697, 'non-captured': 3, 'sensor 0': set(), 'sensor 1': set(), 'sensor 2': {(1, 999)}, 'sensor 3': {(1, 999)}, 'sensor 4': {(1, 999)}, 'sensor 5': set(), 'sensor 6': set(), 'sensor 7': {(1, 999)}, 'sensor 8': set(), 'sensor 9': set(), 'sensor 10': set(), 'sensor 11': {(1, 999)}}\n",
            "Episode:6\t Score:291.39 \t{'captured': 705, 'non-captured': 5, 'sensor 0': set(), 'sensor 1': {(1, 993)}, 'sensor 2': {(1, 1000)}, 'sensor 3': set(), 'sensor 4': {(1, 1000)}, 'sensor 5': set(), 'sensor 6': {(1, 993)}, 'sensor 7': set(), 'sensor 8': {(1, 993)}, 'sensor 9': set(), 'sensor 10': {(1, 993)}, 'sensor 11': {(1, 1000)}}\n",
            "Episode:7\t Score:310.45 \t{'captured': 717, 'non-captured': 7, 'sensor 0': {(1, 1000), (1, 989)}, 'sensor 1': {(1, 998)}, 'sensor 2': set(), 'sensor 3': {(1, 1000), (1, 989)}, 'sensor 4': set(), 'sensor 5': {(1, 997)}, 'sensor 6': {(1, 998)}, 'sensor 7': {(1, 998), (1, 1000)}, 'sensor 8': {(1, 997), (1, 998), (1, 1000)}, 'sensor 9': {(1, 997)}, 'sensor 10': {(1, 998), (1, 1000)}, 'sensor 11': {(1, 1000)}}\n",
            "Episode:8\t Score:272.50 \t{'captured': 680, 'non-captured': 1, 'sensor 0': set(), 'sensor 1': {(1, 1000)}, 'sensor 2': set(), 'sensor 3': set(), 'sensor 4': set(), 'sensor 5': set(), 'sensor 6': {(1, 1000)}, 'sensor 7': {(1, 1000)}, 'sensor 8': {(1, 1000)}, 'sensor 9': set(), 'sensor 10': {(1, 1000)}, 'sensor 11': set()}\n",
            "Episode:9\t Score:274.23 \t{'captured': 713, 'non-captured': 9, 'sensor 0': {(1, 985), (1, 997), (1, 994)}, 'sensor 1': set(), 'sensor 2': set(), 'sensor 3': {(1, 985), (1, 997), (1, 994)}, 'sensor 4': set(), 'sensor 5': set(), 'sensor 6': set(), 'sensor 7': set(), 'sensor 8': set(), 'sensor 9': set(), 'sensor 10': set(), 'sensor 11': {(1, 985), (1, 997), (1, 994)}}\n",
            "Episode:10\t Score:274.84 \t{'captured': 690, 'non-captured': 9, 'sensor 0': set(), 'sensor 1': {(1, 1000)}, 'sensor 2': set(), 'sensor 3': set(), 'sensor 4': set(), 'sensor 5': {(1, 999)}, 'sensor 6': {(1, 1000)}, 'sensor 7': {(1, 1000)}, 'sensor 8': {(1, 1000)}, 'sensor 9': {(1, 999)}, 'sensor 10': {(1, 1000)}, 'sensor 11': set()}\n",
            "Episode:11\t Score:272.78 \t{'captured': 711, 'non-captured': 8, 'sensor 0': {(1, 993)}, 'sensor 1': set(), 'sensor 2': {(1, 996), (1, 994)}, 'sensor 3': {(1, 996), (1, 993)}, 'sensor 4': {(1, 996), (1, 994)}, 'sensor 5': set(), 'sensor 6': set(), 'sensor 7': {(1, 996), (1, 993)}, 'sensor 8': {(1, 993)}, 'sensor 9': set(), 'sensor 10': {(1, 993)}, 'sensor 11': {(1, 996), (1, 993)}}\n",
            "Episode:12\t Score:276.68 \t{'captured': 695, 'non-captured': 7, 'sensor 0': {(1, 994), (1, 990), (1, 983)}, 'sensor 1': set(), 'sensor 2': {(1, 998)}, 'sensor 3': {(1, 998), (1, 994), (1, 990), (1, 983)}, 'sensor 4': set(), 'sensor 5': {(1, 995)}, 'sensor 6': set(), 'sensor 7': set(), 'sensor 8': {(1, 995)}, 'sensor 9': {(1, 995)}, 'sensor 10': set(), 'sensor 11': {(1, 998)}}\n",
            "Episode:13\t Score:289.40 \t{'captured': 693, 'non-captured': 8, 'sensor 0': set(), 'sensor 1': set(), 'sensor 2': {(1, 990), (1, 1000)}, 'sensor 3': set(), 'sensor 4': {(1, 990), (1, 1000)}, 'sensor 5': set(), 'sensor 6': set(), 'sensor 7': {(1, 1000)}, 'sensor 8': set(), 'sensor 9': set(), 'sensor 10': {(1, 1000)}, 'sensor 11': {(1, 1000)}}\n",
            "Episode:14\t Score:288.80 \t{'captured': 700, 'non-captured': 10, 'sensor 0': set(), 'sensor 1': set(), 'sensor 2': set(), 'sensor 3': set(), 'sensor 4': set(), 'sensor 5': set(), 'sensor 6': set(), 'sensor 7': set(), 'sensor 8': set(), 'sensor 9': set(), 'sensor 10': set(), 'sensor 11': set()}\n",
            "Episode:15\t Score:300.63 \t{'captured': 734, 'non-captured': 8, 'sensor 0': set(), 'sensor 1': set(), 'sensor 2': set(), 'sensor 3': set(), 'sensor 4': set(), 'sensor 5': set(), 'sensor 6': set(), 'sensor 7': set(), 'sensor 8': set(), 'sensor 9': set(), 'sensor 10': set(), 'sensor 11': set()}\n",
            "Episode:16\t Score:280.93 \t{'captured': 699, 'non-captured': 6, 'sensor 0': set(), 'sensor 1': set(), 'sensor 2': set(), 'sensor 3': set(), 'sensor 4': set(), 'sensor 5': set(), 'sensor 6': set(), 'sensor 7': set(), 'sensor 8': set(), 'sensor 9': set(), 'sensor 10': set(), 'sensor 11': set()}\n",
            "Episode:17\t Score:277.95 \t{'captured': 682, 'non-captured': 7, 'sensor 0': set(), 'sensor 1': {(1, 999)}, 'sensor 2': set(), 'sensor 3': {(1, 999)}, 'sensor 4': set(), 'sensor 5': {(1, 995)}, 'sensor 6': {(1, 999)}, 'sensor 7': {(1, 999)}, 'sensor 8': {(1, 999)}, 'sensor 9': {(1, 999), (1, 995)}, 'sensor 10': {(1, 999)}, 'sensor 11': set()}\n",
            "Episode:18\t Score:283.76 \t{'captured': 690, 'non-captured': 8, 'sensor 0': set(), 'sensor 1': set(), 'sensor 2': {(1, 993), (1, 1000)}, 'sensor 3': {(1, 1000)}, 'sensor 4': {(1, 993), (1, 1000)}, 'sensor 5': set(), 'sensor 6': set(), 'sensor 7': {(1, 993)}, 'sensor 8': set(), 'sensor 9': set(), 'sensor 10': set(), 'sensor 11': {(1, 993), (1, 1000)}}\n",
            "Episode:19\t Score:287.99 \t{'captured': 713, 'non-captured': 6, 'sensor 0': {(1, 997), (1, 992), (1, 987)}, 'sensor 1': set(), 'sensor 2': set(), 'sensor 3': {(1, 997), (1, 992), (1, 987)}, 'sensor 4': set(), 'sensor 5': set(), 'sensor 6': set(), 'sensor 7': {(1, 997)}, 'sensor 8': {(1, 997)}, 'sensor 9': set(), 'sensor 10': {(1, 997)}, 'sensor 11': {(1, 997), (1, 987)}}\n",
            "Episode:20\t Score:302.77 \t{'captured': 663, 'non-captured': 6, 'sensor 0': {(1, 994)}, 'sensor 1': set(), 'sensor 2': set(), 'sensor 3': {(1, 994)}, 'sensor 4': set(), 'sensor 5': {(1, 999)}, 'sensor 6': set(), 'sensor 7': set(), 'sensor 8': set(), 'sensor 9': {(1, 999)}, 'sensor 10': set(), 'sensor 11': {(1, 994)}}\n",
            "Average Score: 287.1759379951636\n"
          ]
        }
      ]
    },
    {
      "cell_type": "code",
      "source": [
        "env.sensor_positions"
      ],
      "metadata": {
        "colab": {
          "base_uri": "https://localhost:8080/"
        },
        "id": "2MSYRNl_A-Gz",
        "outputId": "b97aa58c-3735-409d-ffdc-782eab73ea29"
      },
      "execution_count": null,
      "outputs": [
        {
          "output_type": "execute_result",
          "data": {
            "text/plain": [
              "array([[7.3199391e-01, 5.9865850e-01, 4.6000000e+01],\n",
              "       [1.5601864e-01, 1.5599452e-01, 5.6000000e+01],\n",
              "       [5.8083612e-02, 8.6617613e-01, 4.7000000e+01],\n",
              "       [6.0111499e-01, 7.0807260e-01, 5.0000000e+01],\n",
              "       [2.0584494e-02, 9.6990985e-01, 5.9000000e+01],\n",
              "       [8.3244264e-01, 2.1233912e-01, 6.0000000e+01],\n",
              "       [1.8182497e-01, 1.8340451e-01, 4.7000000e+01],\n",
              "       [3.0424225e-01, 5.2475643e-01, 7.1000000e+01],\n",
              "       [4.3194503e-01, 2.9122913e-01, 6.6000000e+01],\n",
              "       [6.1185288e-01, 1.3949387e-01, 5.7000000e+01],\n",
              "       [2.9214466e-01, 3.6636186e-01, 5.5000000e+01],\n",
              "       [4.5606998e-01, 7.8517598e-01, 5.5000000e+01]], dtype=float32)"
            ]
          },
          "metadata": {},
          "execution_count": 7
        }
      ]
    },
    {
      "cell_type": "code",
      "source": [
        "check_env(env, warn=True, skip_render_check=True)"
      ],
      "metadata": {
        "id": "Od_rc9sMA3Ef",
        "colab": {
          "base_uri": "https://localhost:8080/"
        },
        "outputId": "b77c5b22-fa13-41d3-de78-370ae710ac15"
      },
      "execution_count": null,
      "outputs": [
        {
          "output_type": "stream",
          "name": "stderr",
          "text": [
            "/usr/local/lib/python3.10/dist-packages/stable_baselines3/common/env_checker.py:244: UserWarning: Your observation  has an unconventional shape (neither an image, nor a 1D vector). We recommend you to flatten the observation to have only a 1D vector or use a custom policy to properly process the data.\n",
            "  warnings.warn(\n"
          ]
        }
      ]
    },
    {
      "cell_type": "code",
      "source": [
        "model = DQN(\"MlpPolicy\", env, verbose=1)\n",
        "model.learn(total_timesteps=100_000, log_interval=4)"
      ],
      "metadata": {
        "colab": {
          "base_uri": "https://localhost:8080/"
        },
        "id": "z-BtrdFAwlNj",
        "outputId": "a8c22b67-f948-426d-9b37-33fa2a15b01e"
      },
      "execution_count": null,
      "outputs": [
        {
          "output_type": "stream",
          "name": "stdout",
          "text": [
            "Using cuda device\n",
            "Wrapping the env with a `Monitor` wrapper\n",
            "Wrapping the env in a DummyVecEnv.\n",
            "----------------------------------\n",
            "| rollout/            |          |\n",
            "|    ep_len_mean      | 1e+03    |\n",
            "|    ep_rew_mean      | 294      |\n",
            "|    exploration_rate | 0.619    |\n",
            "| time/               |          |\n",
            "|    episodes         | 4        |\n",
            "|    fps              | 4604     |\n",
            "|    time_elapsed     | 0        |\n",
            "|    total_timesteps  | 4008     |\n",
            "----------------------------------\n",
            "----------------------------------\n",
            "| rollout/            |          |\n",
            "|    ep_len_mean      | 1e+03    |\n",
            "|    ep_rew_mean      | 290      |\n",
            "|    exploration_rate | 0.238    |\n",
            "| time/               |          |\n",
            "|    episodes         | 8        |\n",
            "|    fps              | 4656     |\n",
            "|    time_elapsed     | 1        |\n",
            "|    total_timesteps  | 8016     |\n",
            "----------------------------------\n",
            "----------------------------------\n",
            "| rollout/            |          |\n",
            "|    ep_len_mean      | 1e+03    |\n",
            "|    ep_rew_mean      | 290      |\n",
            "|    exploration_rate | 0.05     |\n",
            "| time/               |          |\n",
            "|    episodes         | 12       |\n",
            "|    fps              | 4522     |\n",
            "|    time_elapsed     | 2        |\n",
            "|    total_timesteps  | 12024    |\n",
            "----------------------------------\n",
            "----------------------------------\n",
            "| rollout/            |          |\n",
            "|    ep_len_mean      | 1e+03    |\n",
            "|    ep_rew_mean      | 290      |\n",
            "|    exploration_rate | 0.05     |\n",
            "| time/               |          |\n",
            "|    episodes         | 16       |\n",
            "|    fps              | 4559     |\n",
            "|    time_elapsed     | 3        |\n",
            "|    total_timesteps  | 16032    |\n",
            "----------------------------------\n",
            "----------------------------------\n",
            "| rollout/            |          |\n",
            "|    ep_len_mean      | 1e+03    |\n",
            "|    ep_rew_mean      | 289      |\n",
            "|    exploration_rate | 0.05     |\n",
            "| time/               |          |\n",
            "|    episodes         | 20       |\n",
            "|    fps              | 4576     |\n",
            "|    time_elapsed     | 4        |\n",
            "|    total_timesteps  | 20040    |\n",
            "----------------------------------\n",
            "----------------------------------\n",
            "| rollout/            |          |\n",
            "|    ep_len_mean      | 1e+03    |\n",
            "|    ep_rew_mean      | 290      |\n",
            "|    exploration_rate | 0.05     |\n",
            "| time/               |          |\n",
            "|    episodes         | 24       |\n",
            "|    fps              | 4592     |\n",
            "|    time_elapsed     | 5        |\n",
            "|    total_timesteps  | 24048    |\n",
            "----------------------------------\n",
            "----------------------------------\n",
            "| rollout/            |          |\n",
            "|    ep_len_mean      | 1e+03    |\n",
            "|    ep_rew_mean      | 288      |\n",
            "|    exploration_rate | 0.05     |\n",
            "| time/               |          |\n",
            "|    episodes         | 28       |\n",
            "|    fps              | 4610     |\n",
            "|    time_elapsed     | 6        |\n",
            "|    total_timesteps  | 28056    |\n",
            "----------------------------------\n",
            "----------------------------------\n",
            "| rollout/            |          |\n",
            "|    ep_len_mean      | 1e+03    |\n",
            "|    ep_rew_mean      | 289      |\n",
            "|    exploration_rate | 0.05     |\n",
            "| time/               |          |\n",
            "|    episodes         | 32       |\n",
            "|    fps              | 4608     |\n",
            "|    time_elapsed     | 6        |\n",
            "|    total_timesteps  | 32064    |\n",
            "----------------------------------\n",
            "----------------------------------\n",
            "| rollout/            |          |\n",
            "|    ep_len_mean      | 1e+03    |\n",
            "|    ep_rew_mean      | 290      |\n",
            "|    exploration_rate | 0.05     |\n",
            "| time/               |          |\n",
            "|    episodes         | 36       |\n",
            "|    fps              | 4342     |\n",
            "|    time_elapsed     | 8        |\n",
            "|    total_timesteps  | 36072    |\n",
            "----------------------------------\n",
            "----------------------------------\n",
            "| rollout/            |          |\n",
            "|    ep_len_mean      | 1e+03    |\n",
            "|    ep_rew_mean      | 289      |\n",
            "|    exploration_rate | 0.05     |\n",
            "| time/               |          |\n",
            "|    episodes         | 40       |\n",
            "|    fps              | 4090     |\n",
            "|    time_elapsed     | 9        |\n",
            "|    total_timesteps  | 40080    |\n",
            "----------------------------------\n",
            "----------------------------------\n",
            "| rollout/            |          |\n",
            "|    ep_len_mean      | 1e+03    |\n",
            "|    ep_rew_mean      | 290      |\n",
            "|    exploration_rate | 0.05     |\n",
            "| time/               |          |\n",
            "|    episodes         | 44       |\n",
            "|    fps              | 4135     |\n",
            "|    time_elapsed     | 10       |\n",
            "|    total_timesteps  | 44088    |\n",
            "----------------------------------\n",
            "----------------------------------\n",
            "| rollout/            |          |\n",
            "|    ep_len_mean      | 1e+03    |\n",
            "|    ep_rew_mean      | 289      |\n",
            "|    exploration_rate | 0.05     |\n",
            "| time/               |          |\n",
            "|    episodes         | 48       |\n",
            "|    fps              | 4168     |\n",
            "|    time_elapsed     | 11       |\n",
            "|    total_timesteps  | 48096    |\n",
            "----------------------------------\n",
            "----------------------------------\n",
            "| rollout/            |          |\n",
            "|    ep_len_mean      | 1e+03    |\n",
            "|    ep_rew_mean      | 284      |\n",
            "|    exploration_rate | 0.05     |\n",
            "| time/               |          |\n",
            "|    episodes         | 52       |\n",
            "|    fps              | 2928     |\n",
            "|    time_elapsed     | 17       |\n",
            "|    total_timesteps  | 52104    |\n",
            "| train/              |          |\n",
            "|    learning_rate    | 0.0001   |\n",
            "|    loss             | 0.311    |\n",
            "|    n_updates        | 525      |\n",
            "----------------------------------\n",
            "----------------------------------\n",
            "| rollout/            |          |\n",
            "|    ep_len_mean      | 1e+03    |\n",
            "|    ep_rew_mean      | 275      |\n",
            "|    exploration_rate | 0.05     |\n",
            "| time/               |          |\n",
            "|    episodes         | 56       |\n",
            "|    fps              | 2302     |\n",
            "|    time_elapsed     | 24       |\n",
            "|    total_timesteps  | 56112    |\n",
            "| train/              |          |\n",
            "|    learning_rate    | 0.0001   |\n",
            "|    loss             | 0.169    |\n",
            "|    n_updates        | 1527     |\n",
            "----------------------------------\n",
            "----------------------------------\n",
            "| rollout/            |          |\n",
            "|    ep_len_mean      | 1e+03    |\n",
            "|    ep_rew_mean      | 272      |\n",
            "|    exploration_rate | 0.05     |\n",
            "| time/               |          |\n",
            "|    episodes         | 60       |\n",
            "|    fps              | 1988     |\n",
            "|    time_elapsed     | 30       |\n",
            "|    total_timesteps  | 60120    |\n",
            "| train/              |          |\n",
            "|    learning_rate    | 0.0001   |\n",
            "|    loss             | 0.192    |\n",
            "|    n_updates        | 2529     |\n",
            "----------------------------------\n",
            "----------------------------------\n",
            "| rollout/            |          |\n",
            "|    ep_len_mean      | 1e+03    |\n",
            "|    ep_rew_mean      | 268      |\n",
            "|    exploration_rate | 0.05     |\n",
            "| time/               |          |\n",
            "|    episodes         | 64       |\n",
            "|    fps              | 1750     |\n",
            "|    time_elapsed     | 36       |\n",
            "|    total_timesteps  | 64128    |\n",
            "| train/              |          |\n",
            "|    learning_rate    | 0.0001   |\n",
            "|    loss             | 0.181    |\n",
            "|    n_updates        | 3531     |\n",
            "----------------------------------\n",
            "----------------------------------\n",
            "| rollout/            |          |\n",
            "|    ep_len_mean      | 1e+03    |\n",
            "|    ep_rew_mean      | 266      |\n",
            "|    exploration_rate | 0.05     |\n",
            "| time/               |          |\n",
            "|    episodes         | 68       |\n",
            "|    fps              | 1616     |\n",
            "|    time_elapsed     | 42       |\n",
            "|    total_timesteps  | 68136    |\n",
            "| train/              |          |\n",
            "|    learning_rate    | 0.0001   |\n",
            "|    loss             | 0.204    |\n",
            "|    n_updates        | 4533     |\n",
            "----------------------------------\n",
            "----------------------------------\n",
            "| rollout/            |          |\n",
            "|    ep_len_mean      | 1e+03    |\n",
            "|    ep_rew_mean      | 264      |\n",
            "|    exploration_rate | 0.05     |\n",
            "| time/               |          |\n",
            "|    episodes         | 72       |\n",
            "|    fps              | 1489     |\n",
            "|    time_elapsed     | 48       |\n",
            "|    total_timesteps  | 72144    |\n",
            "| train/              |          |\n",
            "|    learning_rate    | 0.0001   |\n",
            "|    loss             | 0.185    |\n",
            "|    n_updates        | 5535     |\n",
            "----------------------------------\n",
            "----------------------------------\n",
            "| rollout/            |          |\n",
            "|    ep_len_mean      | 1e+03    |\n",
            "|    ep_rew_mean      | 263      |\n",
            "|    exploration_rate | 0.05     |\n",
            "| time/               |          |\n",
            "|    episodes         | 76       |\n",
            "|    fps              | 1413     |\n",
            "|    time_elapsed     | 53       |\n",
            "|    total_timesteps  | 76152    |\n",
            "| train/              |          |\n",
            "|    learning_rate    | 0.0001   |\n",
            "|    loss             | 0.253    |\n",
            "|    n_updates        | 6537     |\n",
            "----------------------------------\n",
            "----------------------------------\n",
            "| rollout/            |          |\n",
            "|    ep_len_mean      | 1e+03    |\n",
            "|    ep_rew_mean      | 261      |\n",
            "|    exploration_rate | 0.05     |\n",
            "| time/               |          |\n",
            "|    episodes         | 80       |\n",
            "|    fps              | 1325     |\n",
            "|    time_elapsed     | 60       |\n",
            "|    total_timesteps  | 80160    |\n",
            "| train/              |          |\n",
            "|    learning_rate    | 0.0001   |\n",
            "|    loss             | 0.154    |\n",
            "|    n_updates        | 7539     |\n",
            "----------------------------------\n",
            "----------------------------------\n",
            "| rollout/            |          |\n",
            "|    ep_len_mean      | 1e+03    |\n",
            "|    ep_rew_mean      | 259      |\n",
            "|    exploration_rate | 0.05     |\n",
            "| time/               |          |\n",
            "|    episodes         | 84       |\n",
            "|    fps              | 1277     |\n",
            "|    time_elapsed     | 65       |\n",
            "|    total_timesteps  | 84168    |\n",
            "| train/              |          |\n",
            "|    learning_rate    | 0.0001   |\n",
            "|    loss             | 0.196    |\n",
            "|    n_updates        | 8541     |\n",
            "----------------------------------\n",
            "----------------------------------\n",
            "| rollout/            |          |\n",
            "|    ep_len_mean      | 1e+03    |\n",
            "|    ep_rew_mean      | 256      |\n",
            "|    exploration_rate | 0.05     |\n",
            "| time/               |          |\n",
            "|    episodes         | 88       |\n",
            "|    fps              | 1201     |\n",
            "|    time_elapsed     | 73       |\n",
            "|    total_timesteps  | 88176    |\n",
            "| train/              |          |\n",
            "|    learning_rate    | 0.0001   |\n",
            "|    loss             | 0.457    |\n",
            "|    n_updates        | 9543     |\n",
            "----------------------------------\n",
            "----------------------------------\n",
            "| rollout/            |          |\n",
            "|    ep_len_mean      | 1e+03    |\n",
            "|    ep_rew_mean      | 253      |\n",
            "|    exploration_rate | 0.05     |\n",
            "| time/               |          |\n",
            "|    episodes         | 92       |\n",
            "|    fps              | 1169     |\n",
            "|    time_elapsed     | 78       |\n",
            "|    total_timesteps  | 92184    |\n",
            "| train/              |          |\n",
            "|    learning_rate    | 0.0001   |\n",
            "|    loss             | 0.163    |\n",
            "|    n_updates        | 10545    |\n",
            "----------------------------------\n",
            "----------------------------------\n",
            "| rollout/            |          |\n",
            "|    ep_len_mean      | 1e+03    |\n",
            "|    ep_rew_mean      | 253      |\n",
            "|    exploration_rate | 0.05     |\n",
            "| time/               |          |\n",
            "|    episodes         | 96       |\n",
            "|    fps              | 1132     |\n",
            "|    time_elapsed     | 84       |\n",
            "|    total_timesteps  | 96192    |\n",
            "| train/              |          |\n",
            "|    learning_rate    | 0.0001   |\n",
            "|    loss             | 0.165    |\n",
            "|    n_updates        | 11547    |\n",
            "----------------------------------\n"
          ]
        },
        {
          "output_type": "execute_result",
          "data": {
            "text/plain": [
              "<stable_baselines3.dqn.dqn.DQN at 0x7afcb6cf4e80>"
            ]
          },
          "metadata": {},
          "execution_count": 9
        }
      ]
    },
    {
      "cell_type": "code",
      "source": [
        "episodes = 20\n",
        "scores = []\n",
        "\n",
        "for episode in range(1, episodes+1):\n",
        "    state, info = env.reset()\n",
        "    done = False\n",
        "    score = 0\n",
        "\n",
        "    while not done:\n",
        "        action = model.predict(state, deterministic=True)\n",
        "        n_state, reward, terminated, truncated, info = env.step(action[0])\n",
        "        score += reward\n",
        "        done = terminated or truncated\n",
        "        state = n_state\n",
        "\n",
        "    scores.append(score)\n",
        "    print('Episode:{}\\t Score:{:.2f} \\t{}'.format(episode, score, info))\n",
        "\n",
        "# Print average score\n",
        "print('Average Score:', np.mean(scores))"
      ],
      "metadata": {
        "id": "M1O52Cu8xJua",
        "colab": {
          "base_uri": "https://localhost:8080/"
        },
        "outputId": "24f0185f-31d2-4ef9-be24-97016f2cac00"
      },
      "execution_count": null,
      "outputs": [
        {
          "output_type": "stream",
          "name": "stdout",
          "text": [
            "Episode:1\t Score:317.66 \t{'captured': 651, 'non-captured': 43, 'sensor 0': {(1, 626), (1, 490), (1, 560), (1, 842), (1, 781), (1, 218), (1, 671), (1, 622), (1, 994), (1, 843), (1, 997), (1, 771)}, 'sensor 1': {(1, 577), (1, 249)}, 'sensor 2': {(1, 632), (1, 644), (1, 854), (1, 561), (1, 439), (1, 451), (1, 42), (1, 890), (1, 835), (1, 292), (1, 844), (1, 795), (1, 432), (1, 612), (1, 267), (1, 807), (1, 999), (1, 657), (1, 837), (1, 309), (1, 617), (1, 385)}, 'sensor 3': set(), 'sensor 4': {(1, 632), (1, 644), (1, 854), (1, 561), (1, 439), (1, 451), (1, 42), (1, 890), (1, 835), (1, 292), (1, 844), (1, 795), (1, 432), (1, 612), (1, 267), (1, 807), (1, 999), (1, 657), (1, 837), (1, 309), (1, 617), (1, 385)}, 'sensor 5': {(1, 671), (1, 560), (1, 994), (1, 843), (1, 997), (1, 842), (1, 781), (1, 218)}, 'sensor 6': {(1, 577), (1, 249)}, 'sensor 7': set(), 'sensor 8': set(), 'sensor 9': {(1, 997)}, 'sensor 10': set(), 'sensor 11': {(1, 632), (1, 844), (1, 795), (1, 612), (1, 267), (1, 999), (1, 561), (1, 439), (1, 451), (1, 837), (1, 309), (1, 617), (1, 890)}}\n",
            "Episode:2\t Score:299.74 \t{'captured': 643, 'non-captured': 53, 'sensor 0': {(1, 525), (1, 885), (1, 833), (1, 946), (1, 711), (1, 241), (1, 247), (1, 201), (1, 805), (1, 701), (1, 350), (1, 713), (1, 563), (1, 331), (1, 767), (1, 242), (1, 910), (1, 501)}, 'sensor 1': {(1, 276), (1, 567), (1, 123)}, 'sensor 2': {(1, 928), (1, 986), (1, 870), (1, 275), (1, 159), (1, 98), (1, 235), (1, 781), (1, 860), (1, 445), (1, 503), (1, 335), (1, 518), (1, 402), (1, 646), (1, 588), (1, 234), (1, 182), (1, 310), (1, 255), (1, 313), (1, 618), (1, 624), (1, 865), (1, 465), (1, 349), (1, 858)}, 'sensor 3': set(), 'sensor 4': {(1, 928), (1, 986), (1, 870), (1, 275), (1, 159), (1, 98), (1, 235), (1, 781), (1, 860), (1, 445), (1, 503), (1, 335), (1, 518), (1, 402), (1, 646), (1, 588), (1, 234), (1, 182), (1, 310), (1, 255), (1, 313), (1, 618), (1, 624), (1, 865), (1, 465), (1, 349), (1, 858)}, 'sensor 5': {(1, 525), (1, 885), (1, 563), (1, 833), (1, 711), (1, 946), (1, 331), (1, 247), (1, 767), (1, 805), (1, 910), (1, 501), (1, 713)}, 'sensor 6': {(1, 276), (1, 567), (1, 123)}, 'sensor 7': set(), 'sensor 8': set(), 'sensor 9': set(), 'sensor 10': set(), 'sensor 11': {(1, 986), (1, 870), (1, 275), (1, 235), (1, 781), (1, 860), (1, 503), (1, 335), (1, 518), (1, 646), (1, 234), (1, 182), (1, 310), (1, 618), (1, 624), (1, 865), (1, 349)}}\n",
            "Episode:3\t Score:292.47 \t{'captured': 647, 'non-captured': 43, 'sensor 0': {(1, 333), (1, 351), (1, 575), (1, 935), (1, 462), (1, 288), (1, 526), (1, 500), (1, 593), (1, 829)}, 'sensor 1': {(1, 897), (1, 595)}, 'sensor 2': {(1, 992), (1, 841), (1, 960), (1, 876), (1, 725), (1, 995), (1, 969), (1, 255), (1, 650), (1, 740), (1, 17), (1, 946), (1, 325), (1, 337), (1, 976), (1, 834), (1, 428), (1, 936), (1, 951), (1, 980), (1, 588), (1, 54), (1, 893)}, 'sensor 3': {(1, 995)}, 'sensor 4': {(1, 992), (1, 841), (1, 960), (1, 876), (1, 725), (1, 995), (1, 969), (1, 255), (1, 650), (1, 740), (1, 17), (1, 946), (1, 325), (1, 337), (1, 976), (1, 834), (1, 428), (1, 936), (1, 951), (1, 980), (1, 588), (1, 54), (1, 893)}, 'sensor 5': {(1, 935), (1, 575), (1, 125), (1, 462), (1, 288), (1, 526), (1, 500), (1, 593)}, 'sensor 6': {(1, 897), (1, 595)}, 'sensor 7': set(), 'sensor 8': set(), 'sensor 9': set(), 'sensor 10': set(), 'sensor 11': {(1, 876), (1, 995), (1, 969), (1, 255), (1, 650), (1, 740), (1, 946), (1, 325), (1, 428), (1, 980), (1, 588)}}\n",
            "Episode:4\t Score:293.50 \t{'captured': 630, 'non-captured': 49, 'sensor 0': {(1, 992), (1, 751), (1, 998), (1, 618), (1, 287), (1, 996), (1, 369), (1, 999), (1, 732), (1, 465), (1, 320), (1, 326), (1, 509), (1, 358), (1, 898), (1, 315)}, 'sensor 1': {(1, 423), (1, 626), (1, 773), (1, 817), (1, 87), (1, 899)}, 'sensor 2': {(1, 333), (1, 513), (1, 693), (1, 815), (1, 760), (1, 531), (1, 180), (1, 967), (1, 552), (1, 634), (1, 939), (1, 771), (1, 179), (1, 563), (1, 520), (1, 453), (1, 761), (1, 410), (1, 709), (1, 733), (1, 852), (1, 196), (1, 205)}, 'sensor 3': {(1, 996), (1, 998), (1, 999)}, 'sensor 4': {(1, 333), (1, 513), (1, 693), (1, 815), (1, 760), (1, 531), (1, 180), (1, 967), (1, 552), (1, 634), (1, 939), (1, 771), (1, 179), (1, 563), (1, 520), (1, 453), (1, 761), (1, 410), (1, 709), (1, 733), (1, 852), (1, 196), (1, 205)}, 'sensor 5': {(1, 992), (1, 751), (1, 618), (1, 369), (1, 465), (1, 320), (1, 509), (1, 358), (1, 898), (1, 315), (1, 112)}, 'sensor 6': {(1, 423), (1, 626), (1, 773), (1, 817), (1, 87), (1, 899)}, 'sensor 7': set(), 'sensor 8': set(), 'sensor 9': set(), 'sensor 10': set(), 'sensor 11': {(1, 333), (1, 693), (1, 760), (1, 998), (1, 563), (1, 180), (1, 453), (1, 520), (1, 967), (1, 552), (1, 761), (1, 709), (1, 634), (1, 733), (1, 852), (1, 205), (1, 179)}}\n",
            "Episode:5\t Score:305.96 \t{'captured': 666, 'non-captured': 45, 'sensor 0': {(1, 780), (1, 226), (1, 766), (1, 612), (1, 377), (1, 726), (1, 996), (1, 912), (1, 709), (1, 503), (1, 782), (1, 338), (1, 312), (1, 521), (1, 881), (1, 803)}, 'sensor 1': {(1, 696), (1, 615)}, 'sensor 2': {(1, 870), (1, 528), (1, 424), (1, 497), (1, 88), (1, 759), (1, 710), (1, 948), (1, 594), (1, 536), (1, 603), (1, 545), (1, 676), (1, 255), (1, 279), (1, 404), (1, 947), (1, 245), (1, 837), (1, 254), (1, 269)}, 'sensor 3': set(), 'sensor 4': {(1, 870), (1, 528), (1, 424), (1, 497), (1, 88), (1, 759), (1, 710), (1, 948), (1, 594), (1, 536), (1, 603), (1, 545), (1, 676), (1, 255), (1, 279), (1, 404), (1, 947), (1, 245), (1, 837), (1, 254), (1, 269)}, 'sensor 5': {(1, 780), (1, 226), (1, 998), (1, 377), (1, 726), (1, 912), (1, 782), (1, 338), (1, 312), (1, 341), (1, 521), (1, 881), (1, 803)}, 'sensor 6': {(1, 696), (1, 615)}, 'sensor 7': set(), 'sensor 8': set(), 'sensor 9': {(1, 998)}, 'sensor 10': set(), 'sensor 11': {(1, 603), (1, 870), (1, 545), (1, 676), (1, 255), (1, 528), (1, 424), (1, 279), (1, 404), (1, 497), (1, 947), (1, 837), (1, 948), (1, 594)}}\n",
            "Episode:6\t Score:318.12 \t{'captured': 662, 'non-captured': 55, 'sensor 0': {(1, 658), (1, 830), (1, 441), (1, 254), (1, 752), (1, 784), (1, 860), (1, 564), (1, 811), (1, 518), (1, 997), (1, 646), (1, 765), (1, 501), (1, 344)}, 'sensor 1': {(1, 379), (1, 718), (1, 162)}, 'sensor 2': {(1, 31), (1, 330), (1, 577), (1, 949), (1, 894), (1, 351), (1, 595), (1, 488), (1, 622), (1, 338), (1, 771), (1, 789), (1, 795), (1, 969), (1, 859), (1, 78), (1, 575), (1, 562), (1, 169), (1, 895), (1, 904), (1, 62), (1, 248), (1, 367), (1, 846), (1, 736), (1, 382)}, 'sensor 3': {(1, 997)}, 'sensor 4': {(1, 31), (1, 330), (1, 577), (1, 949), (1, 894), (1, 351), (1, 382), (1, 595), (1, 488), (1, 622), (1, 338), (1, 771), (1, 789), (1, 795), (1, 969), (1, 859), (1, 78), (1, 575), (1, 169), (1, 895), (1, 904), (1, 62), (1, 248), (1, 367), (1, 846), (1, 736), (1, 562)}, 'sensor 5': {(1, 501), (1, 830), (1, 441), (1, 784), (1, 518), (1, 1000), (1, 646), (1, 765), (1, 254), (1, 344)}, 'sensor 6': {(1, 379), (1, 718), (1, 162)}, 'sensor 7': set(), 'sensor 8': {(1, 1000)}, 'sensor 9': {(1, 1000)}, 'sensor 10': set(), 'sensor 11': {(1, 595), (1, 488), (1, 622), (1, 771), (1, 789), (1, 795), (1, 969), (1, 859), (1, 575), (1, 169), (1, 895), (1, 904), (1, 248), (1, 367), (1, 736), (1, 562)}}\n",
            "Episode:7\t Score:312.26 \t{'captured': 662, 'non-captured': 35, 'sensor 0': {(1, 760), (1, 392), (1, 546), (1, 944), (1, 410), (1, 654), (1, 239), (1, 405)}, 'sensor 1': {(1, 491), (1, 184), (1, 855), (1, 292)}, 'sensor 2': {(1, 336), (1, 702), (1, 552), (1, 802), (1, 631), (1, 634), (1, 512), (1, 167), (1, 655), (1, 89), (1, 667), (1, 844), (1, 978), (1, 273), (1, 459), (1, 880), (1, 468), (1, 922)}, 'sensor 3': {(1, 1000)}, 'sensor 4': {(1, 667), (1, 336), (1, 844), (1, 702), (1, 922), (1, 978), (1, 273), (1, 459), (1, 880), (1, 552), (1, 468), (1, 802), (1, 631), (1, 634), (1, 512), (1, 167), (1, 655), (1, 89)}, 'sensor 5': {(1, 760), (1, 830), (1, 392), (1, 546), (1, 944), (1, 410), (1, 654), (1, 239), (1, 405)}, 'sensor 6': {(1, 491), (1, 184), (1, 855), (1, 292)}, 'sensor 7': set(), 'sensor 8': set(), 'sensor 9': set(), 'sensor 10': set(), 'sensor 11': {(1, 667), (1, 336), (1, 844), (1, 978), (1, 880), (1, 459), (1, 552), (1, 468), (1, 631), (1, 167), (1, 1000), (1, 655)}}\n",
            "Episode:8\t Score:313.96 \t{'captured': 632, 'non-captured': 57, 'sensor 0': {(1, 211), (1, 995), (1, 287), (1, 203), (1, 595), (1, 828), (1, 657), (1, 489), (1, 579), (1, 463), (1, 312), (1, 762), (1, 730), (1, 440), (1, 324), (1, 809)}, 'sensor 1': {(1, 356), (1, 513), (1, 905), (1, 236)}, 'sensor 2': {(1, 226), (1, 345), (1, 458), (1, 403), (1, 958), (1, 842), (1, 665), (1, 903), (1, 787), (1, 613), (1, 671), (1, 973), (1, 735), (1, 335), (1, 207), (1, 161), (1, 521), (1, 771), (1, 533), (1, 179), (1, 725), (1, 859), (1, 209), (1, 874), (1, 819), (1, 877), (1, 352), (1, 416), (1, 175), (1, 541), (1, 593), (1, 544), (1, 666)}, 'sensor 3': set(), 'sensor 4': {(1, 226), (1, 345), (1, 458), (1, 403), (1, 958), (1, 842), (1, 665), (1, 903), (1, 787), (1, 613), (1, 973), (1, 671), (1, 735), (1, 335), (1, 207), (1, 161), (1, 521), (1, 771), (1, 533), (1, 179), (1, 725), (1, 859), (1, 209), (1, 874), (1, 819), (1, 877), (1, 352), (1, 416), (1, 175), (1, 541), (1, 593), (1, 544), (1, 666)}, 'sensor 5': {(1, 211), (1, 995), (1, 287), (1, 203), (1, 595), (1, 996), (1, 828), (1, 657), (1, 489), (1, 579), (1, 312), (1, 762), (1, 730), (1, 809)}, 'sensor 6': {(1, 356), (1, 513), (1, 905), (1, 236)}, 'sensor 7': set(), 'sensor 8': {(1, 996)}, 'sensor 9': {(1, 996)}, 'sensor 10': set(), 'sensor 11': {(1, 403), (1, 613), (1, 973), (1, 671), (1, 161), (1, 521), (1, 771), (1, 179), (1, 725), (1, 859), (1, 209), (1, 874), (1, 352), (1, 593), (1, 544), (1, 666)}}\n",
            "Episode:9\t Score:302.74 \t{'captured': 640, 'non-captured': 46, 'sensor 0': {(1, 380), (1, 804), (1, 331), (1, 784), (1, 369), (1, 584), (1, 227), (1, 735), (1, 979), (1, 239), (1, 695), (1, 504)}, 'sensor 1': {(1, 815), (1, 984), (1, 457), (1, 891), (1, 550), (1, 993)}, 'sensor 2': {(1, 928), (1, 217), (1, 394), (1, 766), (1, 830), (1, 168), (1, 467), (1, 357), (1, 180), (1, 790), (1, 192), (1, 634), (1, 881), (1, 719), (1, 777), (1, 249), (1, 432), (1, 264), (1, 206), (1, 544), (1, 123)}, 'sensor 3': set(), 'sensor 4': {(1, 928), (1, 217), (1, 394), (1, 766), (1, 830), (1, 168), (1, 467), (1, 357), (1, 180), (1, 790), (1, 192), (1, 634), (1, 881), (1, 719), (1, 777), (1, 249), (1, 432), (1, 264), (1, 206), (1, 544), (1, 123)}, 'sensor 5': {(1, 380), (1, 804), (1, 784), (1, 369), (1, 227), (1, 735), (1, 979), (1, 504)}, 'sensor 6': {(1, 815), (1, 984), (1, 457), (1, 891), (1, 550), (1, 993)}, 'sensor 7': set(), 'sensor 8': set(), 'sensor 9': set(), 'sensor 10': set(), 'sensor 11': {(1, 928), (1, 777), (1, 249), (1, 432), (1, 264), (1, 467), (1, 357), (1, 206), (1, 180), (1, 192), (1, 544), (1, 881)}}\n",
            "Episode:10\t Score:294.63 \t{'captured': 651, 'non-captured': 46, 'sensor 0': {(1, 191), (1, 998), (1, 409), (1, 412), (1, 209), (1, 459), (1, 854), (1, 346), (1, 262), (1, 713)}, 'sensor 1': {(1, 208), (1, 619)}, 'sensor 2': {(1, 705), (1, 964), (1, 430), (1, 442), (1, 271), (1, 930), (1, 869), (1, 448), (1, 167), (1, 1000), (1, 48), (1, 173), (1, 783), (1, 996), (1, 99), (1, 639), (1, 648), (1, 230), (1, 175), (1, 233), (1, 300), (1, 480), (1, 660), (1, 773), (1, 489), (1, 428), (1, 367), (1, 925), (1, 324)}, 'sensor 3': {(1, 1000)}, 'sensor 4': {(1, 705), (1, 964), (1, 430), (1, 442), (1, 271), (1, 930), (1, 869), (1, 448), (1, 167), (1, 1000), (1, 48), (1, 173), (1, 783), (1, 996), (1, 99), (1, 639), (1, 648), (1, 230), (1, 175), (1, 233), (1, 300), (1, 480), (1, 773), (1, 660), (1, 489), (1, 428), (1, 367), (1, 925), (1, 324)}, 'sensor 5': {(1, 346), (1, 191), (1, 409), (1, 459), (1, 713), (1, 854)}, 'sensor 6': {(1, 208), (1, 619)}, 'sensor 7': set(), 'sensor 8': set(), 'sensor 9': set(), 'sensor 10': set(), 'sensor 11': {(1, 996), (1, 639), (1, 648), (1, 442), (1, 175), (1, 480), (1, 773), (1, 448), (1, 869), (1, 930), (1, 367), (1, 1000), (1, 925)}}\n",
            "Episode:11\t Score:316.70 \t{'captured': 677, 'non-captured': 49, 'sensor 0': {(1, 763), (1, 882), (1, 827), (1, 833), (1, 711), (1, 981), (1, 206), (1, 709), (1, 535), (1, 553), (1, 1000), (1, 925), (1, 719)}, 'sensor 1': {(1, 391), (1, 455), (1, 43), (1, 244)}, 'sensor 2': {(1, 266), (1, 693), (1, 754), (1, 525), (1, 235), (1, 186), (1, 906), (1, 445), (1, 628), (1, 695), (1, 33), (1, 393), (1, 817), (1, 167), (1, 460), (1, 2), (1, 121), (1, 304), (1, 249), (1, 374), (1, 691), (1, 209), (1, 273), (1, 163), (1, 282), (1, 895), (1, 541), (1, 248), (1, 797), (1, 977)}, 'sensor 3': {(1, 1000)}, 'sensor 4': {(1, 266), (1, 693), (1, 754), (1, 525), (1, 235), (1, 186), (1, 906), (1, 445), (1, 628), (1, 695), (1, 33), (1, 393), (1, 817), (1, 167), (1, 460), (1, 2), (1, 121), (1, 304), (1, 249), (1, 374), (1, 691), (1, 209), (1, 273), (1, 163), (1, 282), (1, 895), (1, 541), (1, 248), (1, 797), (1, 977)}, 'sensor 5': {(1, 882), (1, 827), (1, 833), (1, 711), (1, 981), (1, 206), (1, 535), (1, 553), (1, 925)}, 'sensor 6': {(1, 391), (1, 455), (1, 43), (1, 244)}, 'sensor 7': {(1, 1000)}, 'sensor 8': {(1, 1000)}, 'sensor 9': set(), 'sensor 10': set(), 'sensor 11': {(1, 525), (1, 374), (1, 235), (1, 186), (1, 209), (1, 273), (1, 163), (1, 282), (1, 445), (1, 895), (1, 695), (1, 817), (1, 167), (1, 1000)}}\n",
            "Episode:12\t Score:292.39 \t{'captured': 659, 'non-captured': 40, 'sensor 0': {(1, 928), (1, 391), (1, 284), (1, 470), (1, 322), (1, 868), (1, 720), (1, 279), (1, 697), (1, 564), (1, 390), (1, 794)}, 'sensor 1': {(1, 410)}, 'sensor 2': {(1, 40), (1, 589), (1, 894), (1, 595), (1, 662), (1, 549), (1, 680), (1, 155), (1, 39), (1, 997), (1, 713), (1, 472), (1, 731), (1, 310), (1, 374), (1, 569), (1, 648), (1, 651)}, 'sensor 3': set(), 'sensor 4': {(1, 40), (1, 589), (1, 894), (1, 595), (1, 662), (1, 549), (1, 680), (1, 155), (1, 39), (1, 997), (1, 713), (1, 472), (1, 731), (1, 310), (1, 374), (1, 569), (1, 648), (1, 651)}, 'sensor 5': {(1, 928), (1, 992), (1, 391), (1, 284), (1, 322), (1, 868), (1, 720), (1, 279), (1, 697), (1, 564), (1, 390), (1, 794)}, 'sensor 6': {(1, 410)}, 'sensor 7': set(), 'sensor 8': set(), 'sensor 9': {(1, 992)}, 'sensor 10': set(), 'sensor 11': {(1, 310), (1, 374), (1, 589), (1, 894), (1, 595), (1, 662), (1, 651), (1, 680), (1, 155)}}\n",
            "Episode:13\t Score:336.98 \t{'captured': 664, 'non-captured': 51, 'sensor 0': {(1, 304), (1, 673), (1, 740), (1, 258), (1, 203), (1, 238), (1, 601), (1, 999), (1, 616), (1, 207), (1, 939), (1, 701), (1, 318), (1, 414)}, 'sensor 1': {(1, 535), (1, 943), (1, 810), (1, 494)}, 'sensor 2': {(1, 937), (1, 156), (1, 214), (1, 461), (1, 824), (1, 290), (1, 162), (1, 403), (1, 232), (1, 366), (1, 436), (1, 744), (1, 698), (1, 643), (1, 704), (1, 469), (1, 832), (1, 371), (1, 978), (1, 804), (1, 383), (1, 932), (1, 395), (1, 697), (1, 288), (1, 230), (1, 477), (1, 910), (1, 989)}, 'sensor 3': {(1, 999)}, 'sensor 4': {(1, 937), (1, 156), (1, 214), (1, 461), (1, 824), (1, 290), (1, 162), (1, 403), (1, 232), (1, 366), (1, 436), (1, 744), (1, 698), (1, 643), (1, 704), (1, 469), (1, 832), (1, 371), (1, 978), (1, 804), (1, 383), (1, 932), (1, 395), (1, 697), (1, 288), (1, 230), (1, 989), (1, 477), (1, 910)}, 'sensor 5': {(1, 5), (1, 304), (1, 673), (1, 740), (1, 258), (1, 203), (1, 238), (1, 601), (1, 616), (1, 207), (1, 701), (1, 318), (1, 414)}, 'sensor 6': {(1, 535), (1, 943), (1, 810), (1, 494)}, 'sensor 7': set(), 'sensor 8': set(), 'sensor 9': set(), 'sensor 10': set(), 'sensor 11': {(1, 937), (1, 156), (1, 214), (1, 403), (1, 162), (1, 804), (1, 232), (1, 932), (1, 999), (1, 436), (1, 832), (1, 910), (1, 704), (1, 469), (1, 989)}}\n",
            "Episode:14\t Score:293.01 \t{'captured': 640, 'non-captured': 54, 'sensor 0': {(1, 760), (1, 415), (1, 726), (1, 970), (1, 857), (1, 503), (1, 878), (1, 576), (1, 1000), (1, 948), (1, 658), (1, 371), (1, 563), (1, 456), (1, 282), (1, 221), (1, 532), (1, 724), (1, 248)}, 'sensor 1': {(1, 771), (1, 919), (1, 628)}, 'sensor 2': {(1, 275), (1, 458), (1, 775), (1, 961), (1, 604), (1, 787), (1, 552), (1, 506), (1, 210), (1, 826), (1, 524), (1, 164), (1, 832), (1, 5), (1, 914), (1, 862), (1, 627), (1, 807), (1, 999), (1, 947), (1, 178), (1, 117), (1, 962), (1, 190), (1, 196), (1, 260), (1, 318)}, 'sensor 3': {(1, 1000)}, 'sensor 4': {(1, 275), (1, 458), (1, 775), (1, 961), (1, 604), (1, 787), (1, 552), (1, 506), (1, 210), (1, 826), (1, 524), (1, 164), (1, 832), (1, 5), (1, 914), (1, 862), (1, 627), (1, 807), (1, 999), (1, 947), (1, 178), (1, 117), (1, 962), (1, 190), (1, 196), (1, 260), (1, 318)}, 'sensor 5': {(1, 995), (1, 371), (1, 760), (1, 726), (1, 282), (1, 532), (1, 724), (1, 248), (1, 878), (1, 948)}, 'sensor 6': {(1, 628), (1, 771), (1, 919)}, 'sensor 7': set(), 'sensor 8': set(), 'sensor 9': {(1, 995)}, 'sensor 10': set(), 'sensor 11': {(1, 458), (1, 914), (1, 627), (1, 775), (1, 604), (1, 999), (1, 787), (1, 552), (1, 210), (1, 178), (1, 962), (1, 190), (1, 164), (1, 260), (1, 318)}}\n",
            "Episode:15\t Score:280.86 \t{'captured': 643, 'non-captured': 56, 'sensor 0': {(1, 458), (1, 284), (1, 644), (1, 232), (1, 256), (1, 262), (1, 570), (1, 753), (1, 692), (1, 576), (1, 286), (1, 740), (1, 859), (1, 459), (1, 639), (1, 419), (1, 489), (1, 916)}, 'sensor 1': {(1, 203), (1, 836), (1, 247), (1, 613), (1, 997), (1, 527), (1, 974), (1, 295), (1, 719)}, 'sensor 2': {(1, 147), (1, 37), (1, 339), (1, 882), (1, 171), (1, 549), (1, 552), (1, 326), (1, 927), (1, 1000), (1, 945), (1, 350), (1, 890), (1, 655), (1, 548), (1, 264), (1, 404), (1, 584), (1, 877), (1, 532), (1, 538), (1, 843), (1, 321)}, 'sensor 3': {(1, 1000)}, 'sensor 4': {(1, 147), (1, 37), (1, 339), (1, 882), (1, 171), (1, 549), (1, 552), (1, 326), (1, 927), (1, 1000), (1, 945), (1, 890), (1, 350), (1, 655), (1, 548), (1, 264), (1, 404), (1, 584), (1, 877), (1, 532), (1, 538), (1, 843), (1, 321)}, 'sensor 5': {(1, 458), (1, 284), (1, 644), (1, 232), (1, 256), (1, 262), (1, 753), (1, 692), (1, 576), (1, 286), (1, 740), (1, 859), (1, 459), (1, 419), (1, 489), (1, 916)}, 'sensor 6': {(1, 613), (1, 719), (1, 203), (1, 997), (1, 836), (1, 527), (1, 974), (1, 295), (1, 247)}, 'sensor 7': {(1, 1000)}, 'sensor 8': set(), 'sensor 9': set(), 'sensor 10': set(), 'sensor 11': {(1, 339), (1, 548), (1, 882), (1, 584), (1, 552), (1, 890), (1, 532), (1, 326), (1, 843), (1, 1000), (1, 945), (1, 321), (1, 350), (1, 655)}}\n",
            "Episode:16\t Score:289.67 \t{'captured': 648, 'non-captured': 48, 'sensor 0': {(1, 783), (1, 963), (1, 496), (1, 714), (1, 891), (1, 235), (1, 270), (1, 755), (1, 903), (1, 761), (1, 785), (1, 393), (1, 422), (1, 518), (1, 1000)}, 'sensor 1': {(1, 444), (1, 980), (1, 998), (1, 268)}, 'sensor 2': {(1, 940), (1, 467), (1, 171), (1, 238), (1, 372), (1, 271), (1, 384), (1, 930), (1, 957), (1, 301), (1, 60), (1, 377), (1, 41), (1, 468), (1, 291), (1, 68), (1, 788), (1, 553), (1, 681), (1, 498)}, 'sensor 3': set(), 'sensor 4': {(1, 940), (1, 467), (1, 171), (1, 238), (1, 372), (1, 271), (1, 384), (1, 930), (1, 957), (1, 301), (1, 60), (1, 377), (1, 41), (1, 468), (1, 291), (1, 68), (1, 788), (1, 553), (1, 681), (1, 498)}, 'sensor 5': {(1, 783), (1, 963), (1, 496), (1, 714), (1, 891), (1, 235), (1, 903), (1, 761), (1, 393), (1, 518), (1, 1000), (1, 713)}, 'sensor 6': {(1, 444), (1, 980), (1, 998), (1, 268)}, 'sensor 7': {(1, 998)}, 'sensor 8': {(1, 998)}, 'sensor 9': {(1, 1000)}, 'sensor 10': {(1, 998)}, 'sensor 11': {(1, 957), (1, 301), (1, 940), (1, 377), (1, 467), (1, 171), (1, 238), (1, 468), (1, 271), (1, 384), (1, 930), (1, 553), (1, 498)}}\n",
            "Episode:17\t Score:267.74 \t{'captured': 646, 'non-captured': 59, 'sensor 0': {(1, 670), (1, 879), (1, 287), (1, 987), (1, 241), (1, 845), (1, 700), (1, 721), (1, 239), (1, 753), (1, 878), (1, 817), (1, 1000), (1, 225), (1, 379)}, 'sensor 1': {(1, 47), (1, 107), (1, 142), (1, 643), (1, 682), (1, 993)}, 'sensor 2': {(1, 217), (1, 455), (1, 284), (1, 897), (1, 900), (1, 125), (1, 247), (1, 851), (1, 915), (1, 680), (1, 625), (1, 204), (1, 692), (1, 991), (1, 228), (1, 774), (1, 629), (1, 118), (1, 743), (1, 691), (1, 450), (1, 227), (1, 166), (1, 471), (1, 901), (1, 419), (1, 657), (1, 312), (1, 675), (1, 562)}, 'sensor 3': {(1, 1000)}, 'sensor 4': {(1, 217), (1, 455), (1, 284), (1, 897), (1, 900), (1, 125), (1, 247), (1, 851), (1, 915), (1, 680), (1, 625), (1, 204), (1, 692), (1, 991), (1, 228), (1, 774), (1, 118), (1, 743), (1, 691), (1, 450), (1, 227), (1, 166), (1, 471), (1, 562), (1, 901), (1, 419), (1, 657), (1, 312), (1, 675), (1, 629)}, 'sensor 5': {(1, 670), (1, 879), (1, 287), (1, 845), (1, 239), (1, 753), (1, 878), (1, 817), (1, 225), (1, 379)}, 'sensor 6': {(1, 47), (1, 107), (1, 142), (1, 643), (1, 682), (1, 993)}, 'sensor 7': {(1, 1000)}, 'sensor 8': set(), 'sensor 9': set(), 'sensor 10': set(), 'sensor 11': {(1, 284), (1, 897), (1, 247), (1, 851), (1, 915), (1, 680), (1, 625), (1, 204), (1, 692), (1, 991), (1, 1000), (1, 774), (1, 743), (1, 166), (1, 471), (1, 901), (1, 419), (1, 657), (1, 312), (1, 629)}}\n",
            "Episode:18\t Score:317.71 \t{'captured': 656, 'non-captured': 42, 'sensor 0': {(1, 510), (1, 786), (1, 911), (1, 580), (1, 746), (1, 421), (1, 221), (1, 851), (1, 323), (1, 599), (1, 207), (1, 219), (1, 899)}, 'sensor 1': {(1, 985), (1, 958), (1, 267), (1, 575)}, 'sensor 2': {(1, 644), (1, 290), (1, 952), (1, 717), (1, 259), (1, 579), (1, 222), (1, 701), (1, 167), (1, 783), (1, 740), (1, 502), (1, 352), (1, 834), (1, 840), (1, 672), (1, 675), (1, 919)}, 'sensor 3': set(), 'sensor 4': {(1, 783), (1, 644), (1, 290), (1, 740), (1, 502), (1, 952), (1, 717), (1, 352), (1, 259), (1, 834), (1, 840), (1, 579), (1, 222), (1, 672), (1, 167), (1, 701), (1, 675), (1, 919)}, 'sensor 5': {(1, 786), (1, 911), (1, 998), (1, 746), (1, 421), (1, 221), (1, 851), (1, 323), (1, 599), (1, 219), (1, 899)}, 'sensor 6': {(1, 985), (1, 958), (1, 267), (1, 575)}, 'sensor 7': set(), 'sensor 8': set(), 'sensor 9': {(1, 998)}, 'sensor 10': set(), 'sensor 11': {(1, 783), (1, 644), (1, 740), (1, 717), (1, 352), (1, 834), (1, 840), (1, 579), (1, 222), (1, 672), (1, 701), (1, 675), (1, 919)}}\n",
            "Episode:19\t Score:321.45 \t{'captured': 671, 'non-captured': 49, 'sensor 0': {(1, 217), (1, 670), (1, 316), (1, 978), (1, 467), (1, 917), (1, 964), (1, 944), (1, 590), (1, 570), (1, 280)}, 'sensor 1': {(1, 751), (1, 606), (1, 261), (1, 756), (1, 874)}, 'sensor 2': {(1, 928), (1, 867), (1, 995), (1, 104), (1, 342), (1, 354), (1, 668), (1, 67), (1, 942), (1, 951), (1, 768), (1, 228), (1, 496), (1, 615), (1, 679), (1, 444), (1, 743), (1, 682), (1, 325), (1, 749), (1, 355), (1, 135), (1, 742)}, 'sensor 3': set(), 'sensor 4': {(1, 928), (1, 867), (1, 995), (1, 104), (1, 342), (1, 354), (1, 668), (1, 67), (1, 942), (1, 951), (1, 768), (1, 228), (1, 496), (1, 615), (1, 679), (1, 444), (1, 743), (1, 682), (1, 325), (1, 749), (1, 355), (1, 135), (1, 742)}, 'sensor 5': {(1, 281), (1, 670), (1, 316), (1, 978), (1, 467), (1, 964), (1, 944), (1, 590), (1, 570), (1, 280)}, 'sensor 6': {(1, 751), (1, 606), (1, 261), (1, 756), (1, 874)}, 'sensor 7': set(), 'sensor 8': set(), 'sensor 9': set(), 'sensor 10': set(), 'sensor 11': {(1, 867), (1, 995), (1, 342), (1, 354), (1, 668), (1, 942), (1, 228), (1, 496), (1, 615), (1, 679), (1, 444), (1, 743), (1, 682), (1, 325), (1, 749), (1, 355)}}\n",
            "Episode:20\t Score:337.87 \t{'captured': 668, 'non-captured': 55, 'sensor 0': {(1, 272), (1, 487), (1, 714), (1, 735), (1, 654), (1, 663), (1, 608), (1, 402), (1, 623)}, 'sensor 1': {(1, 690), (1, 966), (1, 169), (1, 951), (1, 890), (1, 938)}, 'sensor 2': {(1, 992), (1, 336), (1, 995), (1, 760), (1, 363), (1, 848), (1, 793), (1, 198), (1, 390), (1, 396), (1, 161), (1, 707), (1, 414), (1, 829), (1, 716), (1, 789), (1, 740), (1, 432), (1, 377), (1, 508), (1, 276), (1, 755), (1, 996), (1, 813), (1, 291), (1, 50), (1, 541), (1, 117), (1, 364), (1, 251), (1, 141), (1, 629)}, 'sensor 3': set(), 'sensor 4': {(1, 992), (1, 336), (1, 995), (1, 760), (1, 363), (1, 848), (1, 793), (1, 198), (1, 390), (1, 396), (1, 161), (1, 707), (1, 829), (1, 414), (1, 716), (1, 789), (1, 740), (1, 432), (1, 377), (1, 508), (1, 276), (1, 755), (1, 996), (1, 813), (1, 291), (1, 50), (1, 541), (1, 117), (1, 364), (1, 251), (1, 141), (1, 629)}, 'sensor 5': {(1, 272), (1, 487), (1, 438), (1, 714), (1, 735), (1, 663), (1, 608), (1, 402), (1, 1000), (1, 623)}, 'sensor 6': {(1, 690), (1, 966), (1, 169), (1, 951), (1, 890), (1, 938)}, 'sensor 7': set(), 'sensor 8': set(), 'sensor 9': {(1, 1000)}, 'sensor 10': set(), 'sensor 11': {(1, 716), (1, 992), (1, 336), (1, 995), (1, 760), (1, 789), (1, 377), (1, 508), (1, 276), (1, 755), (1, 363), (1, 198), (1, 541), (1, 251), (1, 707)}}\n",
            "Average Score: 305.27159746217393\n"
          ]
        }
      ]
    },
    {
      "cell_type": "code",
      "source": [
        "env.sensor_positions"
      ],
      "metadata": {
        "colab": {
          "base_uri": "https://localhost:8080/"
        },
        "id": "nrxI0m4DW5KU",
        "outputId": "e35d0d7a-1589-4c6a-cbe5-37082f867f1e"
      },
      "execution_count": null,
      "outputs": [
        {
          "output_type": "execute_result",
          "data": {
            "text/plain": [
              "array([[7.3199391e-01, 5.9865850e-01, 2.1000000e+01],\n",
              "       [1.5601864e-01, 1.5599452e-01, 1.0000000e+00],\n",
              "       [5.8083612e-02, 8.6617613e-01, 0.0000000e+00],\n",
              "       [6.0111499e-01, 7.0807260e-01, 2.0400000e+02],\n",
              "       [2.0584494e-02, 9.6990985e-01, 0.0000000e+00],\n",
              "       [8.3244264e-01, 2.1233912e-01, 0.0000000e+00],\n",
              "       [1.8182497e-01, 1.8340451e-01, 0.0000000e+00],\n",
              "       [3.0424225e-01, 5.2475643e-01, 1.2500000e+02],\n",
              "       [4.3194503e-01, 2.9122913e-01, 0.0000000e+00],\n",
              "       [6.1185288e-01, 1.3949387e-01, 1.4300000e+02],\n",
              "       [2.9214466e-01, 3.6636186e-01, 2.0700000e+02],\n",
              "       [4.5606998e-01, 7.8517598e-01, 2.2000000e+01]], dtype=float32)"
            ]
          },
          "metadata": {},
          "execution_count": 11
        }
      ]
    },
    {
      "cell_type": "code",
      "source": [
        "import matplotlib.pyplot as plt\n",
        "\n",
        "obs, info = env.reset()\n",
        "\n",
        "captured_latency = []  # List to store time latency for captured events\n",
        "\n",
        "for step in range(env.max_steps):\n",
        "    action = model.predict(state, deterministic=True)\n",
        "\n",
        "    if (info['sensor '+ str(action[0])] != set()):\n",
        "      for event in info['sensor '+ str(action[0])]:\n",
        "        time_latency = env.step_count - event[-1]\n",
        "        captured_latency.append(time_latency)\n",
        "\n",
        "    n_obs, reward, terminated, truncated, info = env.step(action[0])\n",
        "    state = n_obs\n",
        "\n",
        "print('Average Time latency: {:.2f} min: {:.2f} max: {:.2f}'.format(np.mean(captured_latency), min(captured_latency), max(captured_latency)))\n",
        "\n",
        "# Plot the evolution of time latency\n",
        "plt.figure(figsize=(10, 6))\n",
        "plt.plot(captured_latency, label='Time Latency for Captured Events')\n",
        "plt.title('SB3 Scheduler')\n",
        "plt.xlabel('Captured Event Index')\n",
        "plt.ylabel('Time Latency (in timesteps)')\n",
        "plt.legend()\n",
        "plt.show()\n",
        "plt.tight_layout()"
      ],
      "metadata": {
        "colab": {
          "base_uri": "https://localhost:8080/",
          "height": 599
        },
        "id": "bMrm6GFSuBK2",
        "outputId": "64ff3929-6e82-43f6-b564-e28bb00b4546"
      },
      "execution_count": null,
      "outputs": [
        {
          "output_type": "stream",
          "name": "stdout",
          "text": [
            "Average Time latency: 7.49 min: 1.00 max: 133.00\n"
          ]
        },
        {
          "output_type": "display_data",
          "data": {
            "text/plain": [
              "<Figure size 1000x600 with 1 Axes>"
            ],
            "image/png": "[encoded data removed]"
          },
          "metadata": {}
        },
        {
          "output_type": "display_data",
          "data": {
            "text/plain": [
              "<Figure size 640x480 with 0 Axes>"
            ]
          },
          "metadata": {}
        }
      ]
    }
  ]
}